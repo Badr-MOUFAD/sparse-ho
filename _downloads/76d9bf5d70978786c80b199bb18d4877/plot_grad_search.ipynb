{
  "cells": [
    {
      "cell_type": "code",
      "execution_count": null,
      "metadata": {
        "collapsed": false
      },
      "outputs": [],
      "source": [
        "%matplotlib inline"
      ]
    },
    {
      "cell_type": "markdown",
      "metadata": {},
      "source": [
        "\n# Grad Search\n\n\n...\n"
      ]
    },
    {
      "cell_type": "code",
      "execution_count": null,
      "metadata": {
        "collapsed": false
      },
      "outputs": [],
      "source": [
        "# Authors: Quentin Bertrand <quentin.bertrand@inria.fr>\n#          Quentin Klopfenstein <quentin.klopfenstein@u-bourgogne.fr>\n#\n# License: BSD (3-clause)\n\nimport numpy as np\nimport matplotlib.pyplot as plt\n\nfrom sparse_ho.models import Lasso\nfrom sparse_ho.criterion import CV\nfrom sparse_ho.implicit_forward import ImplicitForward\nfrom sparse_ho.forward import Forward\nfrom sparse_ho.ho import grad_search\nfrom sparse_ho.utils import Monitor\nfrom sparse_ho.datasets.real import get_real_sim\n# from sparse_ho.datasets.real import get_rcv1\n# from sparse_ho.datasets.real import get_leukemia\nfrom sparse_ho.grid_search import grid_search\n\nX_train, X_val, X_test, y_train, y_val, y_test = get_real_sim()\n# X_train, X_val, X_test, y_train, y_val, y_test = get_rcv1()\n# X_train, X_val, X_test, y_train, y_val, y_test = get_leukemia()\nn_samples, n_features = X_train.shape\n\nprint(\"Starting path computation...\")\nn_samples = len(y_train)\nalpha_max = np.max(np.abs(X_train.T.dot(y_train))) / X_train.shape[0]\nlog_alpha0 = np.log(alpha_max / 10)\n\nn_alphas = 100\nalphas = alpha_max * np.geomspace(1, 0.001, n_alphas)\nlog_alphas = np.log(alphas)\n\ntol = 1e-7\n\nmodel = Lasso(X_train, y_train, np.log(alpha_max/10))\ncriterion = CV(X_val, y_val, model, X_test=X_test, y_test=y_test)\nalgo = Forward(criterion, use_sk=False)\nmonitor_grid = Monitor()\ngrid_search(\n    algo, None, None, monitor_grid, log_alphas=log_alphas,\n    tol=tol)\n\n# grid search\nmodel = Lasso(X_train, y_train, np.log(alpha_max/10))\ncriterion = CV(X_val, y_val, model, X_test=X_test, y_test=y_test)\nalgo = Forward(criterion, use_sk=True)\nmonitor_grid_sk = Monitor()\ngrid_search(\n    algo, None, None, monitor_grid_sk, log_alphas=log_alphas,\n    tol=tol)\n\n# grad search\nmodel = Lasso(X_train, y_train, np.log(alpha_max/10))\ncriterion = CV(X_val, y_val, model, X_test=X_test, y_test=y_test)\nalgo = Forward(criterion, use_sk=False)\nmonitor_grad = Monitor()\ngrad_search(\n    algo, log_alpha0, monitor_grad, tol=tol, n_outer=50)\nprint('grad search finished')\n\n# grad search\nmodel = Lasso(X_train, y_train, np.log(alpha_max/10))\ncriterion = CV(X_val, y_val, model, X_test=X_test, y_test=y_test)\nalgo = ImplicitForward(criterion, use_sk=True)\nmonitor_grad_sk = Monitor()\ngrad_search(\n    algo, log_alpha0, monitor_grad_sk, tol=tol, n_outer=50)\nprint('grad search finished')\n\nplt.figure()\nplt.semilogy(monitor_grid.times, monitor_grid.objs, label='grid-search')\nplt.semilogy(monitor_grid_sk.times, monitor_grid_sk.objs, label='grid-search sk')\nplt.semilogy(monitor_grad.times, monitor_grad.objs, label='grad-search')\nplt.semilogy(\n    monitor_grad_sk.times, monitor_grad_sk.objs, label='grad-search-sk')\n#     monitor_wolfe.times, monitor_wolfe.objs, label='grad-search')\nplt.legend()\nplt.show(block=False)"
      ]
    }
  ],
  "metadata": {
    "kernelspec": {
      "display_name": "Python 3",
      "language": "python",
      "name": "python3"
    },
    "language_info": {
      "codemirror_mode": {
        "name": "ipython",
        "version": 3
      },
      "file_extension": ".py",
      "mimetype": "text/x-python",
      "name": "python",
      "nbconvert_exporter": "python",
      "pygments_lexer": "ipython3",
      "version": "3.7.5"
    }
  },
  "nbformat": 4,
  "nbformat_minor": 0
}