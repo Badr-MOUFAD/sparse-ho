{
  "cells": [
    {
      "cell_type": "code",
      "execution_count": null,
      "metadata": {
        "collapsed": false
      },
      "outputs": [],
      "source": [
        "%matplotlib inline"
      ]
    },
    {
      "cell_type": "markdown",
      "metadata": {},
      "source": [
        "\n# Grad Search\n\n\n...\n"
      ]
    },
    {
      "cell_type": "code",
      "execution_count": null,
      "metadata": {
        "collapsed": false
      },
      "outputs": [],
      "source": [
        "# Authors: Quentin Bertrand <quentin.bertrand@inria.fr>\n#          Quentin Klopfenstein <quentin.klopfenstein@u-bourgogne.fr>\n#\n# License: BSD (3-clause)\n\n# import numpy as np\n# import matplotlib.pyplot as plt\n\n# from sparse_ho.models import Lasso\n# from sparse_ho.criterion import CV\n# from sparse_ho.implicit_forward import ImplicitForward\n# from sparse_ho.forward import Forward\n# from sparse_ho.ho import grad_search\n# from sparse_ho.utils import Monitor\n# from sparse_ho.datasets.real import get_real_sim\n# # from sparse_ho.datasets.real import get_rcv1\n# # from sparse_ho.datasets.real import get_leukemia\n# from sparse_ho.grid_search import grid_search\n\n# X_train, X_val, X_test, y_train, y_val, y_test = get_real_sim()\n# # X_train, X_val, X_test, y_train, y_val, y_test = get_rcv1()\n# # X_train, X_val, X_test, y_train, y_val, y_test = get_leukemia()\n# n_samples, n_features = X_train.shape\n\n# print(\"Starting path computation...\")\n# n_samples = len(y_train)\n# alpha_max = np.max(np.abs(X_train.T.dot(y_train))) / X_train.shape[0]\n# log_alpha0 = np.log(alpha_max / 10)\n\n# n_alphas = 100\n# alphas = alpha_max * np.geomspace(1, 0.001, n_alphas)\n# log_alphas = np.log(alphas)\n\n# tol = 1e-7\n\n# model = Lasso(X_train, y_train, np.log(alpha_max/10))\n# criterion = CV(X_val, y_val, model, X_test=X_test, y_test=y_test)\n# algo = Forward(criterion, use_sk=False)\n# monitor_grid = Monitor()\n# grid_search(\n#     algo, None, None, monitor_grid, log_alphas=log_alphas,\n#     tol=tol)\n\n# # grid search\n# model = Lasso(X_train, y_train, np.log(alpha_max/10))\n# criterion = CV(X_val, y_val, model, X_test=X_test, y_test=y_test)\n# algo = Forward(criterion, use_sk=True)\n# monitor_grid_sk = Monitor()\n# grid_search(\n#     algo, None, None, monitor_grid_sk, log_alphas=log_alphas,\n#     tol=tol)\n\n# # grad search\n# model = Lasso(X_train, y_train, np.log(alpha_max/10))\n# criterion = CV(X_val, y_val, model, X_test=X_test, y_test=y_test)\n# algo = Forward(criterion, use_sk=False)\n# monitor_grad = Monitor()\n# grad_search(\n#     algo, log_alpha0, monitor_grad, tol=tol, n_outer=50)\n# print('grad search finished')\n\n# # grad search\n# model = Lasso(X_train, y_train, np.log(alpha_max/10))\n# criterion = CV(X_val, y_val, model, X_test=X_test, y_test=y_test)\n# algo = ImplicitForward(criterion, use_sk=True)\n# monitor_grad_sk = Monitor()\n# grad_search(\n#     algo, log_alpha0, monitor_grad_sk, tol=tol, n_outer=50)\n# print('grad search finished')\n\n# plt.figure()\n# plt.semilogy(monitor_grid.times, monitor_grid.objs, label='grid-search')\n# plt.semilogy(monitor_grid_sk.times, monitor_grid_sk.objs, label='grid-search sk')\n# plt.semilogy(monitor_grad.times, monitor_grad.objs, label='grad-search')\n# plt.semilogy(\n#     monitor_grad_sk.times, monitor_grad_sk.objs, label='grad-search-sk')\n# #     monitor_wolfe.times, monitor_wolfe.objs, label='grad-search')\n# plt.legend()\n# plt.show(block=False)"
      ]
    }
  ],
  "metadata": {
    "kernelspec": {
      "display_name": "Python 3",
      "language": "python",
      "name": "python3"
    },
    "language_info": {
      "codemirror_mode": {
        "name": "ipython",
        "version": 3
      },
      "file_extension": ".py",
      "mimetype": "text/x-python",
      "name": "python",
      "nbconvert_exporter": "python",
      "pygments_lexer": "ipython3",
      "version": "3.7.6"
    }
  },
  "nbformat": 4,
  "nbformat_minor": 0
}