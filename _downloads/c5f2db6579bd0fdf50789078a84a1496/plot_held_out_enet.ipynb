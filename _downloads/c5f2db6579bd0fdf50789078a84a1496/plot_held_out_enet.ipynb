{
  "cells": [
    {
      "cell_type": "code",
      "execution_count": null,
      "metadata": {
        "collapsed": false
      },
      "outputs": [],
      "source": [
        "%matplotlib inline"
      ]
    },
    {
      "cell_type": "markdown",
      "metadata": {},
      "source": [
        "\n# Lasso with held-out test set\n\nThis example shows how to perform hyperparameter optimization\nfor an elastic-net using a held-out validation set.\n"
      ]
    },
    {
      "cell_type": "code",
      "execution_count": null,
      "metadata": {
        "collapsed": false
      },
      "outputs": [],
      "source": [
        "# Authors: Quentin Bertrand <quentin.bertrand@inria.fr>\n#          Quentin Klopfenstein <quentin.klopfenstein@u-bourgogne.fr>\n#\n# License: BSD (3-clause)\n\nimport time\nimport numpy as np\nfrom sklearn import linear_model\nimport matplotlib.pyplot as plt\nfrom mpl_toolkits.mplot3d import Axes3D\n\nfrom libsvmdata.datasets import fetch_libsvm\n\nfrom sklearn.datasets import make_regression\nfrom sparse_ho import ImplicitForward\nfrom sparse_ho.criterion import HeldOutMSE\nfrom sparse_ho.models import ElasticNet\nfrom sparse_ho.ho import grad_search\nfrom sparse_ho.utils import Monitor\n\nAxes3D  # hack for matplotlib 3D support\n# TODO improve example and remove this 3D graph\n\n# dataset = \"rcv1\"\ndataset = 'simu'\n# use_small_part = False\nuse_small_part = True"
      ]
    },
    {
      "cell_type": "markdown",
      "metadata": {},
      "source": [
        "Load some data\n\n"
      ]
    },
    {
      "cell_type": "code",
      "execution_count": null,
      "metadata": {
        "collapsed": false
      },
      "outputs": [],
      "source": [
        "print(\"Started to load data\")\ndataset = 'rcv1'\n# dataset = 'simu'\n\nif dataset == 'rcv1':\n    X, y = fetch_libsvm('rcv1_train')\nelse:\n    X, y = make_regression(n_samples=1000, n_features=1000, noise=40)\n\nprint(\"Finished loading data\")\n\nn_samples = X.shape[0]\nidx_train = np.arange(0, n_samples // 2)\nidx_val = np.arange(n_samples // 2, n_samples)\n\nprint(\"Starting path computation...\")\nn_samples = len(y[idx_train])\nalpha_max = np.max(np.abs(X[idx_train, :].T.dot(y[idx_train]))) / len(idx_train)\nlog_alpha_max = np.log(alpha_max)\n\nalpha_min = 1e-4 * alpha_max\n\nn_grid = 10\nalphas_1 = np.geomspace(0.6 * alpha_max, alpha_min, n_grid)\nlog_alphas_1 = np.log(alphas_1)\nalphas_2 = np.geomspace(0.6 * alpha_max, alpha_min, n_grid)\nlog_alphas_2 = np.log(alphas_2)\n\nresults = np.zeros((n_grid, n_grid))\ntol = 1e-4\nmax_iter = 50000\n\nestimator = linear_model.ElasticNet(\n    fit_intercept=False, tol=tol, max_iter=max_iter, warm_start=True)"
      ]
    },
    {
      "cell_type": "markdown",
      "metadata": {},
      "source": [
        "## Grid-search with scikit-learn\n\n"
      ]
    },
    {
      "cell_type": "code",
      "execution_count": null,
      "metadata": {
        "collapsed": false
      },
      "outputs": [],
      "source": [
        "print(\"Started grid-search\")\nt_grid_search = - time.time()\nfor i in range(n_grid):\n    print(\"lambda %i / %i\" % (i, n_grid))\n    for j in range(n_grid):\n        print(\"lambda %i / %i\" % (j, n_grid))\n        estimator.alpha = (alphas_1[i] + alphas_2[j])\n        estimator.l1_ratio = alphas_1[i] / (alphas_1[i] + alphas_2[j])\n        estimator.fit(X[idx_train, :], y[idx_train])\n        results[i, j] = np.mean((y[idx_val] - X[idx_val, :] @ estimator.coef_) ** 2)\nt_grid_search += time.time()\nprint(\"Finished grid-search\")"
      ]
    },
    {
      "cell_type": "markdown",
      "metadata": {},
      "source": [
        "## Grad-search with sparse-ho\n\n"
      ]
    },
    {
      "cell_type": "code",
      "execution_count": null,
      "metadata": {
        "collapsed": false
      },
      "outputs": [],
      "source": [
        "estimator = linear_model.ElasticNet(\n    fit_intercept=False, max_iter=max_iter, warm_start=True)\nprint(\"Started grad-search\")\nt_grad_search = - time.time()\nmonitor = Monitor()\nn_outer = 10\nmodel = ElasticNet(max_iter=max_iter, estimator=estimator)\ncriterion = HeldOutMSE(idx_train, idx_val)\nalgo = ImplicitForward(tol_jac=1e-7, n_iter_jac=1000, max_iter=max_iter)\ngrad_search(\n    algo, criterion, model, X, y, verbose=True,\n    log_alpha0=np.array([np.log(alpha_max * 0.3), np.log(alpha_max / 10)]),\n    tol=tol, n_outer=n_outer, monitor=monitor)\nt_grad_search += time.time()\nalphas_grad = np.exp(np.array(monitor.log_alphas))\nalphas_grad /= alpha_max\n\n\nprint(\"Time grid-search %f\" % t_grid_search)\nprint(\"Time grad-search %f\" % t_grad_search)\nprint(\"Minimum grid search %0.3e\" % results.min())\nprint(\"Minimum grad search %0.3e\" % np.array(monitor.objs).min())"
      ]
    },
    {
      "cell_type": "markdown",
      "metadata": {},
      "source": [
        "## Plot results\n\n"
      ]
    },
    {
      "cell_type": "code",
      "execution_count": null,
      "metadata": {
        "collapsed": false
      },
      "outputs": [],
      "source": [
        "idx = np.where(results == results.min())\n\na, b = np.meshgrid(alphas_1 / alpha_max, alphas_2 / alpha_max)\nfig = plt.figure()\nax = plt.axes(projection='3d')\nax.plot_surface(\n    np.log(a), np.log(b), results, rstride=1, cstride=1,\n    cmap='viridis', edgecolor='none', alpha=0.5)\nax.scatter3D(\n    np.log(a), np.log(b), results,\n    monitor.objs, c=\"black\", s=20, marker=\"o\")\nax.scatter3D(\n    np.log(alphas_grad[:, 0]), np.log(alphas_grad[:, 1]),\n    monitor.objs, c=\"red\", s=200, marker=\"X\")\nax.scatter3D(\n    np.log(alphas_2[idx[1]] / alpha_max),\n    np.log(alphas_1[idx[0]] / alpha_max),\n    [results.min()], c=\"black\", s=200, marker=\"X\")\nax.set_xlabel(\"lambda1\")\nax.set_ylabel(\"lambda2\")\nax.set_label(\"Loss on validation set\")\nfig.show()"
      ]
    }
  ],
  "metadata": {
    "kernelspec": {
      "display_name": "Python 3",
      "language": "python",
      "name": "python3"
    },
    "language_info": {
      "codemirror_mode": {
        "name": "ipython",
        "version": 3
      },
      "file_extension": ".py",
      "mimetype": "text/x-python",
      "name": "python",
      "nbconvert_exporter": "python",
      "pygments_lexer": "ipython3",
      "version": "3.8.1"
    }
  },
  "nbformat": 4,
  "nbformat_minor": 0
}