{
  "cells": [
    {
      "cell_type": "code",
      "execution_count": null,
      "metadata": {
        "collapsed": false
      },
      "outputs": [],
      "source": [
        "%matplotlib inline"
      ]
    },
    {
      "cell_type": "markdown",
      "metadata": {},
      "source": [
        "\nMethod comparison on Lasso\n==========================\n\nThe aim of this example is to demonstrate on a simple\ndateset how methods compare.\n"
      ]
    },
    {
      "cell_type": "code",
      "execution_count": null,
      "metadata": {
        "collapsed": false
      },
      "outputs": [],
      "source": [
        "# Authors: Quentin Bertrand <quentin.bertrand@inria.fr>\n#          Quentin Klopfenstein <quentin.klopfenstein@u-bourgogne.fr>\n#\n# License: BSD (3-clause)\n\n\n# import numpy as np\n# import matplotlib.pyplot as plt\n# import seaborn as sns\n\n# from sparse_ho.ho import grad_search\n# from sparse_ho.utils import Monitor, WarmStart\n# from sparse_ho.grid_search import grid_search\n# # from sparse_ho.bayesian import hyperopt_lasso\n\n# from sparse_ho.datasets.real import get_20newsgroup\n# from expes.utils import configure_plt\n\n# print(__doc__)\n\n# # from sparse_ho.datasets.real import get_leukemia\n# # X_train, X_val, X_test, y_train, y_val, y_test = get_leukemia()\n\n# # from sparse_ho.datasets.real import get_finance\n# # X_train, X_val, X_test, y_train, y_val, y_test = get_finance()\n\n# X_train, X_val, X_test, y_train, y_val, y_test = get_20newsgroup()\n\n# n_samples, n_features = X_train.shape\n\n# alpha_max = (np.abs(X_train.T @ y_train)).max() / n_samples\n# maxit = 1000\n# n_alpha = 100\n# p_alphas = np.geomspace(1, 0.0001, n_alpha)\n# log_alphas = np.log(alpha_max * p_alphas)\n\n\n# alpha0 = 0.6 * alpha_max\n# # alpha0 = 0.1 * alpha_max\n# log_alpha0_mcp = np.array([np.log(alpha0), np.log(100)])\n# log_alpha0 = np.log(alpha0)\n# log_alpha_min = np.log(alpha_max / 100)\n# log_alpha_max = np.log(alpha_max)\n\n# tol = 1e-5\n\n# dict_times = {}\n# dict_pobj = {}\n\n\n# methods = [\"forward\", \"implicit_forward\", \"implicit\", \"grid_search\"]\n# maxits = np.floor(np.geomspace(5, 100, 5)).astype(int)\n\n\n# model = \"lasso\"\n\n# dict_n_outers = {}\n# dict_n_outers[\"20newsgroups\", \"implicit_forward\"] = 50\n# dict_n_outers[\"20newsgroups\", \"forward\"] = 30\n# dict_n_outers[\"20newsgroups\", \"implicit\"] = 30\n# dict_n_outers[\"20newsgroups\", \"bayesian\"] = 75\n# dict_n_outers[\"20newsgroups\", \"random\"] = 35\n\n# dataset_name = \"20newsgroups\"\n\n# for method in methods:\n#     monitor = Monitor()\n#     warm_start = WarmStart()\n#     if method == \"grid_search\":\n#         grid_search(\n#             X_train, y_train, log_alphas, X_val, y_val, X_test, y_test,\n#             tol, monitor)\n#     else:\n#         n_outer = dict_n_outers[dataset_name, method]\n#         grad_search(\n#             X_train, y_train, log_alpha0, X_val, y_val, X_test, y_test, tol,\n#             monitor, method=method, maxit=1000, n_outer=n_outer,\n#             warm_start=warm_start, model=\"lasso\", t_max=20)\n#     pobj = np.array(\n#         [np.min(monitor.objs[:k]) for k in np.arange(\n#             len(monitor.objs)) + 1])\n#     dict_pobj[method] = pobj\n#     dict_times[method] = np.array(monitor.times)\n\n\n# pobj_star = np.infty\n# for method in methods:\n#     pobj_star = np.minimum(pobj_star, np.min(dict_pobj[method]))\n\n# dict_legend = {}\n# dict_legend[\"implicit_forward\"] = \"implicit forward\"\n# dict_legend[\"forward\"] = \"forward\"\n# dict_legend[\"implicit\"] = \"implicit\"\n# dict_legend[\"grid_search\"] = \"grid search\"\n\n\n# configure_plt()\n# current_palette = sns.color_palette(\"colorblind\")\n# plt.figure()\n# for method in methods:\n#     plt.semilogy(\n#         dict_times[method], dict_pobj[method] - pobj_star,\n#         label=dict_legend[method], marker=\"X\")\n# plt.ylabel(\"Objective minus optimum\")\n# plt.xlabel(\"Time\")\n# plt.legend()\n# plt.show(block=False)"
      ]
    }
  ],
  "metadata": {
    "kernelspec": {
      "display_name": "Python 3",
      "language": "python",
      "name": "python3"
    },
    "language_info": {
      "codemirror_mode": {
        "name": "ipython",
        "version": 3
      },
      "file_extension": ".py",
      "mimetype": "text/x-python",
      "name": "python",
      "nbconvert_exporter": "python",
      "pygments_lexer": "ipython3",
      "version": "3.7.6"
    }
  },
  "nbformat": 4,
  "nbformat_minor": 0
}