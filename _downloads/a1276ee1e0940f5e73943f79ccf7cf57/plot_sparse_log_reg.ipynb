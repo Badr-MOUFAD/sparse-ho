{
  "cells": [
    {
      "cell_type": "code",
      "execution_count": null,
      "metadata": {
        "collapsed": false
      },
      "outputs": [],
      "source": [
        "%matplotlib inline"
      ]
    },
    {
      "cell_type": "markdown",
      "metadata": {},
      "source": [
        "\n# Sparse logistic regression\n\nThis example shows how to perform hyperparameter optimisation\nfor sparse logistic regression using a held-out test set.\n"
      ]
    },
    {
      "cell_type": "code",
      "execution_count": null,
      "metadata": {
        "collapsed": false
      },
      "outputs": [],
      "source": [
        "# Authors: Quentin Bertrand <quentin.bertrand@inria.fr>\n#          Quentin Klopfenstein <quentin.klopfenstein@u-bourgogne.fr>\n#\n# License: BSD (3-clause)\n\n\nimport time\nfrom libsvmdata.datasets import fetch_libsvm\nimport numpy as np\nimport matplotlib.pyplot as plt\nimport seaborn as sns\n\nfrom sklearn.datasets import make_classification\nfrom celer import LogisticRegression\n\nfrom sparse_ho.ho import grad_search\nfrom sparse_ho.utils import Monitor\nfrom sparse_ho.models import SparseLogreg\nfrom sparse_ho.criterion import HeldOutLogistic\nfrom sparse_ho import ImplicitForward\nfrom sparse_ho.grid_search import grid_search\nfrom sparse_ho.optimizers import GradientDescent\nfrom sparse_ho.utils_plot import discrete_cmap\n\nprint(__doc__)\n\ndataset = 'rcv1.binary'\n# dataset = 'simu'\n\nif dataset != 'simu':\n    X, y = fetch_libsvm(dataset)\n    X = X[:, :100]\nelse:\n    X, y = make_classification(\n        n_samples=100, n_features=1_000, random_state=42, flip_y=0.02)\n\n\nn_samples = X.shape[0]\nidx_train = np.arange(0, n_samples // 2)\nidx_val = np.arange(n_samples // 2, n_samples)\n\nprint(\"Starting path computation...\")\nn_samples = len(y[idx_train])\nalpha_max = np.max(np.abs(X[idx_train, :].T.dot(y[idx_train])))\n\nalpha_max /= 4 * len(idx_train)\nalpha_max = alpha_max\nalpha_min = alpha_max / 100\nmax_iter = 100\n\nalpha0 = 0.1 * alpha_max\ntol = 1e-8\n\nn_alphas = 20\nalphas = np.geomspace(alpha_max,  alpha_max / 1_000, n_alphas)"
      ]
    },
    {
      "cell_type": "markdown",
      "metadata": {},
      "source": [
        "## Grid-search\n\n"
      ]
    },
    {
      "cell_type": "code",
      "execution_count": null,
      "metadata": {
        "collapsed": false
      },
      "outputs": [],
      "source": [
        "print('Grid search started')\nt0 = time.time()\n\nestimator = LogisticRegression(\n    penalty='l1', fit_intercept=False, max_iter=max_iter)\nmodel = SparseLogreg(estimator=estimator)\ncriterion = HeldOutLogistic(idx_train, idx_val)\nmonitor_grid = Monitor()\ngrid_search(\n    criterion, model, X, y, alpha_min, alpha_max,\n    monitor_grid, alphas=alphas, tol=tol)\nobjs = np.array(monitor_grid.objs)\n\nt_grid_search = time.time() - t0\n\nprint('scikit finished')\nprint(f\"Time to compute grad search: {t_grid_search:.2f} s\")"
      ]
    },
    {
      "cell_type": "markdown",
      "metadata": {},
      "source": [
        "## Grad-search\n\n"
      ]
    },
    {
      "cell_type": "code",
      "execution_count": null,
      "metadata": {
        "collapsed": false
      },
      "outputs": [],
      "source": [
        "print('sparse-ho started')\n\nt0 = time.time()\n\nestimator = LogisticRegression(\n    penalty='l1', fit_intercept=False, tol=tol)\nmodel = SparseLogreg(estimator=estimator)\ncriterion = HeldOutLogistic(idx_train, idx_val)\n\nmonitor_grad = Monitor()\nalgo = ImplicitForward(tol_jac=tol, n_iter_jac=1000)\n\noptimizer = GradientDescent(n_outer=10, tol=tol)\ngrad_search(\n    algo, criterion, model, optimizer, X, y, alpha0,\n    monitor_grad)\nobjs_grad = np.array(monitor_grad.objs)\n\nt_grad_search = time.time() - t0\n\nprint('sparse-ho finished')\nprint(f\"Time to compute grad search: {t_grad_search:.2f} s\")\n\n\np_alphas_grad = np.array(monitor_grad.alphas) / alpha_max\n\nobjs_grad = np.array(monitor_grad.objs)\n\ncurrent_palette = sns.color_palette(\"colorblind\")\n\nfig = plt.figure(figsize=(5, 3))\ncmap = discrete_cmap(len(p_alphas_grad), \"Greens\")\n\nplt.plot(alphas / alphas[0], objs, color=current_palette[0])\nplt.plot(\n    alphas / alphas[0], objs, 'bo',\n    label='0-order method (grid-search)', color=current_palette[1])\nplt.scatter(\n    p_alphas_grad, objs_grad, label='1-st order method',\n    marker='X', color=cmap(np.linspace(0, 1, len(objs_grad))), zorder=10)\nplt.xlabel(r\"$\\lambda / \\lambda_{\\max}$\")\nplt.ylabel(\n    r\"$ \\sum_i^n \\log \\left ( 1 + e^{-y_i^{\\rm{val}} X_i^{\\rm{val}} \"\n    r\"\\hat \\beta^{(\\lambda)} } \\right ) $\")\n\nplt.xscale(\"log\")\nplt.tick_params(width=5)\nplt.legend()\nplt.tight_layout()\nplt.show(block=False)"
      ]
    }
  ],
  "metadata": {
    "kernelspec": {
      "display_name": "Python 3",
      "language": "python",
      "name": "python3"
    },
    "language_info": {
      "codemirror_mode": {
        "name": "ipython",
        "version": 3
      },
      "file_extension": ".py",
      "mimetype": "text/x-python",
      "name": "python",
      "nbconvert_exporter": "python",
      "pygments_lexer": "ipython3",
      "version": "3.8.1"
    }
  },
  "nbformat": 4,
  "nbformat_minor": 0
}