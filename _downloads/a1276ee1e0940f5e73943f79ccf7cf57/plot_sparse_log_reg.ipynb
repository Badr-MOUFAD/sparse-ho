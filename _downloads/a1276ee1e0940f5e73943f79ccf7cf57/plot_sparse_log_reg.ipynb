{
  "cells": [
    {
      "cell_type": "code",
      "execution_count": null,
      "metadata": {
        "collapsed": false
      },
      "outputs": [],
      "source": [
        "%matplotlib inline"
      ]
    },
    {
      "cell_type": "markdown",
      "metadata": {},
      "source": [
        "\n# Sparse logistic regression\n\nThis example shows how to perform hyperparameter optimisation\nfor sparse logistic regression using a held-out test set.\n"
      ]
    },
    {
      "cell_type": "code",
      "execution_count": null,
      "metadata": {
        "collapsed": false
      },
      "outputs": [],
      "source": [
        "# Authors: Quentin Bertrand <quentin.bertrand@inria.fr>\n#          Quentin Klopfenstein <quentin.klopfenstein@u-bourgogne.fr>\n#\n# License: BSD (3-clause)\n\n\nimport time\nfrom libsvmdata.datasets import fetch_libsvm\nimport numpy as np\nimport matplotlib.pyplot as plt\nimport seaborn as sns\n\nfrom sklearn.datasets import make_classification\nfrom celer import LogisticRegression\n\nfrom sparse_ho.ho import grad_search\nfrom sparse_ho.utils import Monitor\nfrom sparse_ho.models import SparseLogreg\nfrom sparse_ho.criterion import HeldOutLogistic\nfrom sparse_ho import ImplicitForward\nfrom sparse_ho import Forward\nfrom sparse_ho.grid_search import grid_search\nfrom sparse_ho.optimizers import LineSearch\n\n\nprint(__doc__)\n\ndataset = 'rcv1_train'\n# dataset = 'simu'\n\nif dataset != 'simu':\n    X, y = fetch_libsvm(dataset)\n    X = X[:, :100]\nelse:\n    X, y = make_classification(\n        n_samples=100, n_features=1_000, random_state=42, flip_y=0.02)\n\n\nn_samples = X.shape[0]\nidx_train = np.arange(0, n_samples // 2)\nidx_val = np.arange(n_samples // 2, n_samples)\n\nprint(\"Starting path computation...\")\nn_samples = len(y[idx_train])\nalpha_max = np.max(np.abs(X[idx_train, :].T.dot(y[idx_train])))\n\nalpha_max /= 4 * len(idx_train)\nlog_alpha_max = np.log(alpha_max)\nlog_alpha_min = np.log(alpha_max / 100)\nmax_iter = 100\n\nlog_alpha0 = np.log(0.1 * alpha_max)\ntol = 1e-8\n\nn_alphas = 30\np_alphas = np.geomspace(1, 0.0001, n_alphas)\nalphas = alpha_max * p_alphas\nlog_alphas = np.log(alphas)"
      ]
    },
    {
      "cell_type": "markdown",
      "metadata": {},
      "source": [
        "## Grid-search\n\n"
      ]
    },
    {
      "cell_type": "code",
      "execution_count": null,
      "metadata": {
        "collapsed": false
      },
      "outputs": [],
      "source": [
        "print('scikit started')\nt0 = time.time()\n\nestimator = LogisticRegression(\n    penalty='l1', fit_intercept=False, max_iter=max_iter)\nmodel = SparseLogreg(max_iter=max_iter, estimator=estimator)\ncriterion = HeldOutLogistic(idx_train, idx_val)\nalgo_grid = Forward()\nmonitor_grid = Monitor()\ngrid_search(\n    algo_grid, criterion, model, X, y, log_alpha_min, log_alpha_max,\n    monitor_grid, log_alphas=log_alphas, tol=tol)\nobjs = np.array(monitor_grid.objs)\n\nt_sk = time.time() - t0\n\nprint('scikit finished')\nprint(\"Time to compute CV for scikit-learn: %.2f\" % t_sk)"
      ]
    },
    {
      "cell_type": "markdown",
      "metadata": {},
      "source": [
        "## Grad-search\n\n"
      ]
    },
    {
      "cell_type": "code",
      "execution_count": null,
      "metadata": {
        "collapsed": false
      },
      "outputs": [],
      "source": [
        "print('sparse-ho started')\n\nt0 = time.time()\nestimator = LogisticRegression(\n    penalty='l1', fit_intercept=False, solver='saga', tol=tol)\nmodel = SparseLogreg(max_iter=max_iter, estimator=estimator)\ncriterion = HeldOutLogistic(idx_train, idx_val)\n\nmonitor_grad = Monitor()\nalgo = ImplicitForward(tol_jac=tol, n_iter_jac=1000)\n\noptimizer = LineSearch(n_outer=10, tol=tol)\ngrad_search(\n    algo, criterion, model, optimizer, X, y, log_alpha0,\n    monitor_grad)\n\nobjs_grad = np.array(monitor_grad.objs)\n\nt_grad_search = time.time() - t0\n\nprint('sparse-ho finished')\nprint(\"Time to compute CV for sparse-ho: %.2f\" % t_grad_search)\n\n\np_alphas_grad = np.exp(np.array(monitor_grad.log_alphas)) / alpha_max\n\nobjs_grad = np.array(monitor_grad.objs)\n\ncurrent_palette = sns.color_palette(\"colorblind\")\n\nfig = plt.figure(figsize=(5, 3))\nplt.semilogx(\n    p_alphas, objs, color=current_palette[0])\nplt.semilogx(\n    p_alphas, objs, 'bo', label='0-order method (grid-search)',\n    color=current_palette[1])\nplt.semilogx(\n    p_alphas_grad, objs_grad, 'bX', label='1-st order method',\n    color=current_palette[2])\nplt.xlabel(r\"$\\lambda / \\lambda_{\\max}$\")\nplt.ylabel(\n    r\"$ \\sum_i^n \\log \\left ( 1 + e^{-y_i^{\\rm{val}} X_i^{\\rm{val}} \"\n    r\"\\hat \\beta^{(\\lambda)} } \\right ) $\")\n\naxes = plt.gca()\nplt.tick_params(width=5)\nplt.legend(loc=1)\nplt.tight_layout()\nplt.show(block=False)"
      ]
    }
  ],
  "metadata": {
    "kernelspec": {
      "display_name": "Python 3",
      "language": "python",
      "name": "python3"
    },
    "language_info": {
      "codemirror_mode": {
        "name": "ipython",
        "version": 3
      },
      "file_extension": ".py",
      "mimetype": "text/x-python",
      "name": "python",
      "nbconvert_exporter": "python",
      "pygments_lexer": "ipython3",
      "version": "3.8.1"
    }
  },
  "nbformat": 4,
  "nbformat_minor": 0
}