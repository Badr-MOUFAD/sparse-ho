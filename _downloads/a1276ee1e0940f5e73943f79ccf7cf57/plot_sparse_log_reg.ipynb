{
  "cells": [
    {
      "cell_type": "code",
      "execution_count": null,
      "metadata": {
        "collapsed": false
      },
      "outputs": [],
      "source": [
        "%matplotlib inline"
      ]
    },
    {
      "cell_type": "markdown",
      "metadata": {},
      "source": [
        "\n# Method comparison on Lasso\n\n\nThe aim of this example is to demonstrate on a simple\ndateset how methods compare.\n"
      ]
    },
    {
      "cell_type": "code",
      "execution_count": null,
      "metadata": {
        "collapsed": false
      },
      "outputs": [],
      "source": [
        "# Authors: Quentin Bertrand <quentin.bertrand@inria.fr>\n#          Quentin Klopfenstein <quentin.klopfenstein@u-bourgogne.fr>\n#\n# License: BSD (3-clause)\n\n\nimport numpy as np\n# import matplotlib.pyplot as plt\n# import seaborn as sns\nfrom sklearn import datasets\nfrom scipy.sparse import csc_matrix\n\nfrom sparse_ho.ho import grad_search\nfrom sparse_ho.utils import Monitor\nfrom sparse_ho.models import SparseLogreg\nfrom sparse_ho.criterion import Logistic\nfrom sparse_ho.implicit_forward import ImplicitForward\nfrom sparse_ho.forward import Forward\nfrom sparse_ho.grid_search import grid_search\n# from sparse_ho.bayesian import hyperopt_lasso\n\nfrom sparse_ho.datasets.real import get_rcv1\n# from expes.utils import configure_plt\n\nprint(__doc__)\n\nX_train, X_val, X_test, y_train, y_val, y_test = get_rcv1()\n\nn_samples = 100\nn_features = 1000\nX_train, y_train = datasets.make_classification(\n    n_samples=n_samples,\n    n_features=n_features, n_informative=50,\n    random_state=10, flip_y=0.1, n_redundant=0)\nX_train_s = csc_matrix(X_train)\n\n\nX_val, y_val = datasets.make_classification(\n    n_samples=n_samples,\n    n_features=n_features, n_informative=50,\n    random_state=12, flip_y=0.1, n_redundant=0)\n\n# X_val_s = csc_matrix(X_val)\n\n\nn_samples, n_features = X_train.shape\n\nalpha_max = np.max(np.abs(X_train.T @ y_train))\nalpha_max /= 2 * n_samples\nlog_alpha_max = np.log(alpha_max)\nlog_alpha_min = np.log(alpha_max / 100)\nmaxit = 1000\n\nlog_alpha0 = np.log(0.3 * alpha_max)\ntol = 1e-2\n\nmodel = SparseLogreg(X_train, y_train, log_alpha0, max_iter=10000, tol=tol)\ncriterion = Logistic(X_val, y_val, model)\nmonitor = Monitor()\nalgo = ImplicitForward(criterion, tol_jac=tol, n_iter_jac=100)\ngrad_search(algo, log_alpha0, monitor, n_outer=3, tol=tol)\n\n\nmonitor_grid = Monitor()\nalgo_grid = Forward(criterion)\ngrid_search(\n    algo_grid, log_alpha_min, log_alpha_max, monitor_grid, max_evals=5)"
      ]
    }
  ],
  "metadata": {
    "kernelspec": {
      "display_name": "Python 3",
      "language": "python",
      "name": "python3"
    },
    "language_info": {
      "codemirror_mode": {
        "name": "ipython",
        "version": 3
      },
      "file_extension": ".py",
      "mimetype": "text/x-python",
      "name": "python",
      "nbconvert_exporter": "python",
      "pygments_lexer": "ipython3",
      "version": "3.7.6"
    }
  },
  "nbformat": 4,
  "nbformat_minor": 0
}