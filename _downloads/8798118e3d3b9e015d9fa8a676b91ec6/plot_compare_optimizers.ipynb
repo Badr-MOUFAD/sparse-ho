{
  "cells": [
    {
      "cell_type": "code",
      "execution_count": null,
      "metadata": {
        "collapsed": false
      },
      "outputs": [],
      "source": [
        "%matplotlib inline"
      ]
    },
    {
      "cell_type": "markdown",
      "metadata": {},
      "source": [
        "\n# Compare outer optimizers\n\nThis example shows how to perform hyperparameter optimization\nfor sparse logistic regression using a held-out test set.\n"
      ]
    },
    {
      "cell_type": "code",
      "execution_count": null,
      "metadata": {
        "collapsed": false
      },
      "outputs": [],
      "source": [
        "# Authors: Quentin Bertrand <quentin.bertrand@inria.fr>\n#          Quentin Klopfenstein <quentin.klopfenstein@u-bourgogne.fr>\n#\n# License: BSD (3-clause)\n\n\nfrom libsvmdata.datasets import fetch_libsvm\nimport numpy as np\nimport matplotlib.pyplot as plt\nimport seaborn as sns\n\nfrom sklearn.datasets import make_classification\nfrom celer import LogisticRegression\n\nfrom sparse_ho.ho import grad_search\nfrom sparse_ho.utils import Monitor\nfrom sparse_ho.models import SparseLogreg\nfrom sparse_ho.criterion import HeldOutLogistic\nfrom sparse_ho import ImplicitForward\nfrom sparse_ho import Forward\nfrom sparse_ho.grid_search import grid_search\nfrom sparse_ho.optimizers import LineSearch, GradientDescent, Adam\n\n\nprint(__doc__)\n\ndataset = 'rcv1_train'\n# dataset = 'simu'\n\nif dataset != 'simu':\n    X, y = fetch_libsvm(dataset)\n    X = X[:, :100]\nelse:\n    X, y = make_classification(\n        n_samples=100, n_features=1_000, random_state=42, flip_y=0.02)\n\n\nn_samples = X.shape[0]\nidx_train = np.arange(0, n_samples // 2)\nidx_val = np.arange(n_samples // 2, n_samples)\n\nprint(\"Starting path computation...\")\nn_samples = len(y[idx_train])\nalpha_max = np.max(np.abs(X[idx_train, :].T.dot(y[idx_train])))\n\nalpha_max /= 4 * len(idx_train)\nlog_alpha_max = np.log(alpha_max)\nlog_alpha_min = np.log(alpha_max / 100)\nmax_iter = 100\n\nlog_alpha0 = np.log(0.1 * alpha_max)\ntol = 1e-8\n\nn_alphas = 30\np_alphas = np.geomspace(1, 0.0001, n_alphas)\nalphas = alpha_max * p_alphas\nlog_alphas = np.log(alphas)"
      ]
    },
    {
      "cell_type": "markdown",
      "metadata": {},
      "source": [
        "## Grid-search\n\n"
      ]
    },
    {
      "cell_type": "code",
      "execution_count": null,
      "metadata": {
        "collapsed": false
      },
      "outputs": [],
      "source": [
        "estimator = LogisticRegression(\n    penalty='l1', fit_intercept=False, max_iter=max_iter)\nmodel = SparseLogreg(max_iter=max_iter, estimator=estimator)\ncriterion = HeldOutLogistic(idx_train, idx_val)\nalgo_grid = Forward()\nmonitor_grid = Monitor()\ngrid_search(\n    algo_grid, criterion, model, X, y, log_alpha_min, log_alpha_max,\n    monitor_grid, log_alphas=log_alphas, tol=tol)\nobjs = np.array(monitor_grid.objs)"
      ]
    },
    {
      "cell_type": "markdown",
      "metadata": {},
      "source": [
        "## Grad-search\n\n"
      ]
    },
    {
      "cell_type": "code",
      "execution_count": null,
      "metadata": {
        "collapsed": false
      },
      "outputs": [],
      "source": [
        "optimizer_names = ['line-search', 'gradient-descent', 'adam']\noptimizers = {\n    'line-search': LineSearch(n_outer=10, tol=tol),\n    'gradient-descent': GradientDescent(n_outer=10, step_size=100),\n    'adam': Adam(n_outer=10, lr=0.11, verbose=True)}\n\nmonitors = {}\n\nfor optimizer_name in optimizer_names:\n    estimator = LogisticRegression(\n        penalty='l1', fit_intercept=False, solver='saga', tol=tol)\n    model = SparseLogreg(max_iter=max_iter, estimator=estimator)\n    criterion = HeldOutLogistic(idx_train, idx_val)\n\n    monitor_grad = Monitor()\n    algo = ImplicitForward(tol_jac=tol, n_iter_jac=1000)\n\n    optimizer = optimizers[optimizer_name]\n    grad_search(\n        algo, criterion, model, optimizer, X, y, log_alpha0,\n        monitor_grad)\n    monitors[optimizer_name] = monitor_grad\n\n\ncurrent_palette = sns.color_palette(\"colorblind\")\ndict_colors = {\n    'line-search': current_palette[2],\n    'gradient-descent': current_palette[3],\n    'adam': current_palette[4]}\n\nplt.figure(figsize=(5, 3))\nplt.semilogx(\n    p_alphas, objs, color=current_palette[0])\nplt.semilogx(\n    p_alphas, objs, 'bo', label='0-order method (grid-search)',\n    color=current_palette[1])\nfor optimizer_name in optimizer_names:\n    monitor = monitors[optimizer_name]\n    p_alphas_grad = np.exp(np.array(monitor.log_alphas)) / alpha_max\n    objs_grad = np.array(monitor.objs)\n    plt.semilogx(\n        p_alphas_grad, objs_grad, 'bX', label=optimizer_name,\n        color=dict_colors[optimizer_name], markersize=7)\n    plt.xlabel(r\"$\\lambda / \\lambda_{\\max}$\")\n    plt.ylabel(\n        r\"$ \\sum_i^n \\log \\left ( 1 + e^{-y_i^{\\rm{val}} X_i^{\\rm{val}} \"\n        r\"\\hat \\beta^{(\\lambda)} } \\right ) $\")\n\nplt.tick_params(width=5)\nplt.legend(loc=1)\nplt.tight_layout()\nplt.show(block=False)"
      ]
    }
  ],
  "metadata": {
    "kernelspec": {
      "display_name": "Python 3",
      "language": "python",
      "name": "python3"
    },
    "language_info": {
      "codemirror_mode": {
        "name": "ipython",
        "version": 3
      },
      "file_extension": ".py",
      "mimetype": "text/x-python",
      "name": "python",
      "nbconvert_exporter": "python",
      "pygments_lexer": "ipython3",
      "version": "3.8.1"
    }
  },
  "nbformat": 4,
  "nbformat_minor": 0
}