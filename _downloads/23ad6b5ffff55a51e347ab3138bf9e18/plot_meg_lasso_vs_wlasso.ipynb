{
  "cells": [
    {
      "cell_type": "code",
      "execution_count": null,
      "metadata": {
        "collapsed": false
      },
      "outputs": [],
      "source": [
        "%matplotlib inline"
      ]
    },
    {
      "cell_type": "markdown",
      "metadata": {},
      "source": [
        "\n# Weighted Lasso versus Lasso on MEG\n\nThis example compares the Lasso and the weighted Lasso on real MEG data.\nWhile the bias of the Lasso leads to optimal coefficients with a lot of\nsources in the brain, the weighted Lasso is able to recover 1 source per\nhemisphere in the brain, as expected from a neuroscience point of view.\n"
      ]
    },
    {
      "cell_type": "code",
      "execution_count": null,
      "metadata": {
        "collapsed": false
      },
      "outputs": [],
      "source": [
        "# Authors: Mathurin Massias <mathurin.massas@gmail.com>\n#          Alexandre Gramfort <alexandre.gramfort@inria.fr>\n#\n# License: BSD (3-clause)\n\n# sphinx_gallery_thumbnail_number = 4\n\nimport numpy as np\nimport mne\nfrom mne.viz import plot_sparse_source_estimates\nfrom mne.datasets import sample\n\nfrom mne.inverse_sparse.mxne_inverse import (\n    _prepare_gain, is_fixed_orient, _reapply_source_weighting,\n    _make_sparse_stc)\nfrom celer import Lasso as celer_Lasso\nfrom sparse_ho.utils import Monitor\nfrom sparse_ho.models import WeightedLasso, Lasso\nfrom sparse_ho.criterion import FiniteDiffMonteCarloSure\nfrom sparse_ho import Implicit\nfrom sparse_ho.ho import grad_search\nfrom sparse_ho.optimizers import GradientDescent\n\n\ndef apply_solver(\n        evoked, forward, noise_cov, loose=0.2, depth=0.8, p_alpha0=0.7,\n        model_name=\"wlasso\"):\n    \"\"\"Call a custom solver on evoked data.\n\n    This function does all the necessary computation:\n\n    - to select the channels in the forward given the available ones in\n      the data\n    - to take into account the noise covariance and do the spatial whitening\n    - to apply loose orientation constraint as MNE solvers\n    - to apply a weighting of the columns of the forward operator as in the\n      weighted Minimum Norm formulation in order to limit the problem\n      of depth bias.\n\n\n    Parameters\n    ----------\n    evoked : instance of mne.Evoked\n        The evoked data\n    forward : instance of Forward\n        The forward solution.\n    noise_cov : instance of Covariance\n        The noise covariance.\n    loose : float in [0, 1] | 'auto'\n        Value that weights the source variances of the dipole components\n        that are parallel (tangential) to the cortical surface. If loose\n        is 0 then the solution is computed with fixed orientation.\n        If loose is 1, it corresponds to free orientations.\n        The default value ('auto') is set to 0.2 for surface-oriented source\n        space and set to 1.0 for volumic or discrete source space.\n    depth : None | float in [0, 1]\n        Depth weighting coefficients. If None, no depth weighting is performed.\n    p_alpha0 : float (default=0.7)\n        Proportion of alpha_max for the initial point alpha0.\n    model_name : string (default=\"wlasso\")\n        Name of the model to use, \"lasso\" or \"wLasso\" in this case.\n\n    Returns\n    -------\n    stc : instance of SourceEstimate\n        The source estimates.\n    \"\"\"\n    all_ch_names = evoked.ch_names\n\n    # Handle depth weighting and whitening (here is no weights)\n    forward, gain, gain_info, whitener, source_weighting, _ = _prepare_gain(\n        forward, evoked.info, noise_cov, pca=False, depth=depth,\n        loose=0, weights=None, weights_min=None, rank=None)\n\n    # Select channels of interest\n    sel = [all_ch_names.index(name) for name in gain_info['ch_names']]\n    M = evoked.data[sel]\n\n    # Whiten data\n    M = np.dot(whitener, M)\n\n    n_orient = 1 if is_fixed_orient(forward) else 3\n\n    X, active_set, monitor = solver(\n        M, gain, n_orient, evoked.nave, p_alpha0=p_alpha0,\n        model_name=model_name)\n    X = _reapply_source_weighting(X, source_weighting, active_set)\n\n    stc = _make_sparse_stc(X, active_set, forward, tmin=evoked.times[0],\n                           tstep=1. / evoked.info['sfreq'])\n\n    return stc, monitor"
      ]
    },
    {
      "cell_type": "markdown",
      "metadata": {},
      "source": [
        "Define your solver\n\n"
      ]
    },
    {
      "cell_type": "code",
      "execution_count": null,
      "metadata": {
        "collapsed": false
      },
      "outputs": [],
      "source": [
        "def solver(\n        y_train, X_train, n_orient, nave, p_alpha0=0.7, model_name=\"wlasso\"):\n    n_times = y_train.shape[1]\n    idx_max = np.argmax(np.sum(y_train ** 2, axis=0))\n    y_train = y_train[:, idx_max]\n\n    n_samples, n_features = X_train.shape\n    alpha_max_old = (np.abs(X_train.T @ y_train)).max() / n_samples\n    X_train /= alpha_max_old\n\n    alpha_max = (np.abs(X_train.T @ y_train)).max() / n_samples\n    alpha0 = p_alpha0 * alpha_max\n\n    estimator = celer_Lasso(\n        fit_intercept=False, max_iter=100, warm_start=True,\n        tol=1e-3)\n    if model_name == \"wlasso\":\n        alpha0 = alpha0 * np.ones(n_features)\n        model = WeightedLasso(estimator=estimator)\n\n    else:\n        model = Lasso(estimator=estimator)\n\n    sigma = 1 / np.sqrt(nave)\n    criterion = FiniteDiffMonteCarloSure(sigma=sigma)\n    algo = Implicit()\n    optimizer = GradientDescent(\n        n_outer=4, tol=1e-7, verbose=True, p_grad_norm=1.9)\n    monitor = Monitor()\n    grad_search(algo, criterion, model, optimizer,\n                X_train, y_train, alpha0, monitor)\n\n    X = criterion.dense0[:, np.newaxis] * np.ones((1, n_times))\n    active_set = criterion.mask0\n    X /= alpha_max_old\n\n    return X, active_set, monitor\n\n\ndata_path = sample.data_path()\nfwd_fname = data_path + '/MEG/sample/sample_audvis-meg-eeg-oct-6-fwd.fif'\nave_fname = data_path + '/MEG/sample/sample_audvis-ave.fif'\ncov_fname = data_path + '/MEG/sample/sample_audvis-shrunk-cov.fif'\ncondition = 'Left Auditory'"
      ]
    },
    {
      "cell_type": "markdown",
      "metadata": {},
      "source": [
        "Read noise covariance matrix and evoked data\n\n"
      ]
    },
    {
      "cell_type": "code",
      "execution_count": null,
      "metadata": {
        "collapsed": false
      },
      "outputs": [],
      "source": [
        "noise_cov = mne.read_cov(cov_fname)\nevoked = mne.read_evokeds(ave_fname, condition=condition, baseline=(None, 0))\nevoked.crop(tmin=0.04, tmax=0.18)\n\n# Crop data around the period of interest\nevoked = evoked.pick_types(eeg=False, meg=True)"
      ]
    },
    {
      "cell_type": "markdown",
      "metadata": {},
      "source": [
        "Handling forward solution\n\n"
      ]
    },
    {
      "cell_type": "code",
      "execution_count": null,
      "metadata": {
        "collapsed": false
      },
      "outputs": [],
      "source": [
        "forward = mne.read_forward_solution(fwd_fname)\n\nloose, depth = 0., .8  # corresponds to free orientation"
      ]
    },
    {
      "cell_type": "markdown",
      "metadata": {},
      "source": [
        "Run estimation with Lasso\n\n"
      ]
    },
    {
      "cell_type": "code",
      "execution_count": null,
      "metadata": {
        "collapsed": false
      },
      "outputs": [],
      "source": [
        "stc = apply_solver(\n    evoked, forward, noise_cov, loose, depth, model_name=\"lasso\")[0]\n# Plot glass brain\nplot_sparse_source_estimates(\n    forward['src'], stc, bgcolor=(1, 1, 1), opacity=0.1)"
      ]
    },
    {
      "cell_type": "markdown",
      "metadata": {},
      "source": [
        "Run estimation with Weighted Lasso\n\n"
      ]
    },
    {
      "cell_type": "code",
      "execution_count": null,
      "metadata": {
        "collapsed": false
      },
      "outputs": [],
      "source": [
        "stc = apply_solver(\n    evoked, forward, noise_cov, loose, depth, model_name=\"wlasso\")[0]\n# Plot glass brain\nplot_sparse_source_estimates(\n    forward['src'], stc, bgcolor=(1, 1, 1), opacity=0.1)"
      ]
    }
  ],
  "metadata": {
    "kernelspec": {
      "display_name": "Python 3",
      "language": "python",
      "name": "python3"
    },
    "language_info": {
      "codemirror_mode": {
        "name": "ipython",
        "version": 3
      },
      "file_extension": ".py",
      "mimetype": "text/x-python",
      "name": "python",
      "nbconvert_exporter": "python",
      "pygments_lexer": "ipython3",
      "version": "3.9.5"
    }
  },
  "nbformat": 4,
  "nbformat_minor": 0
}