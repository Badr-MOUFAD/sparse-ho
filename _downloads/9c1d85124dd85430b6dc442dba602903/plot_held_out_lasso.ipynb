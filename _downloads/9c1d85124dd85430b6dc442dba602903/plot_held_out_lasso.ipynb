{
  "cells": [
    {
      "cell_type": "code",
      "execution_count": null,
      "metadata": {
        "collapsed": false
      },
      "outputs": [],
      "source": [
        "%matplotlib inline"
      ]
    },
    {
      "cell_type": "markdown",
      "metadata": {},
      "source": [
        "\n# Lasso with held-out test set\n\nThis example shows how to perform hyperparameter optimization\nfor a Lasso using a held-out validation set.\n"
      ]
    },
    {
      "cell_type": "code",
      "execution_count": null,
      "metadata": {
        "collapsed": false
      },
      "outputs": [],
      "source": [
        "# Authors: Quentin Bertrand <quentin.bertrand@inria.fr>\n#          Quentin Klopfenstein <quentin.klopfenstein@u-bourgogne.fr>\n#          Mathurin Massias\n#\n# License: BSD (3-clause)\n\nimport time\nimport celer\nimport numpy as np\nimport seaborn as sns\nimport matplotlib.pyplot as plt\nfrom celer.datasets import make_correlated_data\nfrom libsvmdata.datasets import fetch_libsvm\n\nfrom sparse_ho.models import Lasso\nfrom sparse_ho.criterion import HeldOutMSE\nfrom sparse_ho import Forward, ImplicitForward\nfrom sparse_ho.utils import Monitor\nfrom sparse_ho.utils_plot import discrete_cmap\nfrom sparse_ho.ho import grad_search\nfrom sparse_ho.grid_search import grid_search\nfrom sparse_ho.optimizers import LineSearch\n\n\nprint(__doc__)\n\ndataset = 'rcv1'\n# dataset = 'simu'\n\nif dataset == 'rcv1':\n    X, y = fetch_libsvm('rcv1_train')\nelse:\n    X, y, _ = make_correlated_data(n_samples=1000, n_features=2000,\n                                   random_state=0)\n\nn_samples = X.shape[0]\nidx_train = np.arange(0, n_samples // 2)\nidx_val = np.arange(n_samples // 2, n_samples)\n\nprint(\"Starting path computation...\")\nn_samples = len(y[idx_train])\nalpha_max = np.max(np.abs(X[idx_train, :].T @ y[idx_train])) / len(idx_train)\nlog_alpha0 = np.log(alpha_max / 5)\n\nn_alphas = 10\nalphas = np.geomspace(alpha_max, alpha_max/1_000, n_alphas)\nlog_alphas = np.log(alphas)\n\ntol = 1e-7"
      ]
    },
    {
      "cell_type": "markdown",
      "metadata": {},
      "source": [
        "## Grid search with scikit-learn\n\n"
      ]
    },
    {
      "cell_type": "code",
      "execution_count": null,
      "metadata": {
        "collapsed": false
      },
      "outputs": [],
      "source": [
        "estimator = celer.Lasso(fit_intercept=False, warm_start=True)\n\nprint('Grid search started')\n\nt0 = time.time()\nmodel = Lasso(estimator=estimator)\ncriterion = HeldOutMSE(idx_train, idx_val)\nalgo = Forward()\nmonitor_grid_sk = Monitor()\ngrid_search(\n    algo, criterion, model, X, y, None, None, monitor_grid_sk,\n    log_alphas=log_alphas, tol=tol)\nobjs = np.array(monitor_grid_sk.objs)\nt_sk = time.time() - t0\n\nprint('Grid search finished')"
      ]
    },
    {
      "cell_type": "markdown",
      "metadata": {},
      "source": [
        "## Grad-search with sparse-ho\n\n"
      ]
    },
    {
      "cell_type": "code",
      "execution_count": null,
      "metadata": {
        "collapsed": false
      },
      "outputs": [],
      "source": [
        "print('sparse-ho started')\n\nt0 = time.time()\nmodel = Lasso(estimator=estimator)\ncriterion = HeldOutMSE(idx_train, idx_val)\nalgo = ImplicitForward()\nmonitor_grad = Monitor()\noptimizer = LineSearch(n_outer=10, tol=tol)\ngrad_search(\n    algo, criterion, model, optimizer, X, y, log_alpha0, monitor_grad)\n\nt_grad_search = time.time() - t0\n\nprint('sparse-ho finished')"
      ]
    },
    {
      "cell_type": "markdown",
      "metadata": {},
      "source": [
        "## Plot results\n\n"
      ]
    },
    {
      "cell_type": "code",
      "execution_count": null,
      "metadata": {
        "collapsed": false
      },
      "outputs": [],
      "source": [
        "p_alphas_grad = np.exp(np.array(monitor_grad.log_alphas)) / alpha_max\n\nobjs_grad = np.array(monitor_grad.objs)\n\nprint('sparse-ho finished')\nprint(f\"Time for grid search: {t_sk:.2f} s\")\nprint(f\"Time for grad search (sparse-ho): {t_grad_search:.2f} s\")\n\nprint(f'Minimum outer criterion value with grid search: {objs.min():.5f}')\nprint(f'Minimum outer criterion value with grad search: {objs_grad.min():.5f}')\n\n\ncurrent_palette = sns.color_palette(\"colorblind\")\ncmap = discrete_cmap(len(objs_grad), 'Greens')\n\n\nfig, ax = plt.subplots(1, 1, figsize=(5, 3))\nax.plot(alphas / alphas[0], objs, color=current_palette[0])\nax.plot(\n    alphas / alphas[0], objs, 'bo', label='0-th order method (grid search)',\n    color=current_palette[1])\nax.scatter(\n    p_alphas_grad, objs_grad, label='1-st order method',  marker='X',\n    color=cmap(np.linspace(0, 1, len(objs_grad))), s=40, zorder=40)\nax.set_xlabel(r\"$\\lambda / \\lambda_{\\max}$\")\nax.set_ylabel(\n    r\"$\\|y^{\\rm{val}} - X^{\\rm{val}} \\hat \\beta^{(\\lambda)} \\|^2$\")\nplt.tick_params(width=5)\nplt.legend()\nax.set_xscale(\"log\")\nplt.tight_layout()\nplt.show(block=False)"
      ]
    }
  ],
  "metadata": {
    "kernelspec": {
      "display_name": "Python 3",
      "language": "python",
      "name": "python3"
    },
    "language_info": {
      "codemirror_mode": {
        "name": "ipython",
        "version": 3
      },
      "file_extension": ".py",
      "mimetype": "text/x-python",
      "name": "python",
      "nbconvert_exporter": "python",
      "pygments_lexer": "ipython3",
      "version": "3.8.1"
    }
  },
  "nbformat": 4,
  "nbformat_minor": 0
}