{
  "cells": [
    {
      "cell_type": "code",
      "execution_count": null,
      "metadata": {
        "collapsed": false
      },
      "outputs": [],
      "source": [
        "%matplotlib inline"
      ]
    },
    {
      "cell_type": "markdown",
      "metadata": {},
      "source": [
        "\n# Example Lasso and the held-out loss\n\n...\n"
      ]
    },
    {
      "cell_type": "code",
      "execution_count": null,
      "metadata": {
        "collapsed": false
      },
      "outputs": [],
      "source": [
        "# Authors: Quentin Bertrand <quentin.bertrand@inria.fr>\n#          Quentin Klopfenstein <quentin.klopfenstein@u-bourgogne.fr>\n#\n# License: BSD (3-clause)\n\nimport numpy as np\nimport matplotlib.pyplot as plt\nimport seaborn as sns\n\nfrom sparse_ho.models import Lasso\nfrom sparse_ho.criterion import CV\nfrom sparse_ho.forward import Forward\nfrom sparse_ho.implicit_forward import ImplicitForward\nfrom sparse_ho.utils import Monitor\nfrom sparse_ho.ho import grad_search\nfrom sparse_ho.grid_search import grid_search\n# from sparse_ho.datasets.real import get_real_sim\nfrom sparse_ho.datasets.real import get_rcv1\n\n\nX_train, X_val, X_test, y_train, y_val, y_test = get_rcv1()\n# X_train, X_val, X_test, y_train, y_val, y_test = get_real_sim()\nn_samples, n_features = X_train.shape\n\nprint(\"Starting path computation...\")\nn_samples = len(y_train)\nalpha_max = np.max(np.abs(X_train.T.dot(y_train))) / X_train.shape[0]\nlog_alpha0 = np.log(alpha_max / 10)\n\nn_alphas = 10\np_alphas = np.geomspace(1, 0.0001, n_alphas)\nalphas = alpha_max * p_alphas\nlog_alphas = np.log(alphas)\n\ntol = 1e-7\n\n# grid search\nmodel = Lasso(X_train, y_train, np.log(alpha_max/10))\ncriterion = CV(X_val, y_val, model, X_test=X_test, y_test=y_test)\nalgo = Forward(criterion, use_sk=True)\nmonitor_grid_sk = Monitor()\ngrid_search(\n    algo, None, None, monitor_grid_sk, log_alphas=log_alphas,\n    tol=tol)\nobjs = np.array(monitor_grid_sk.objs)\n\n# grad_search\nmodel = Lasso(X_train, y_train, np.log(alpha_max/10))\ncriterion = CV(X_val, y_val, model, X_test=X_test, y_test=y_test)\nalgo = ImplicitForward(criterion, use_sk=True)\nmonitor_grad = Monitor()\ngrad_search(\n    algo, np.log(alpha_max/10), monitor_grad, n_outer=10, tol=tol)\n\n\np_alphas_grad = np.exp(np.array(monitor_grad.log_alphas)) / alpha_max\n\nobjs_grad = np.array(monitor_grad.objs)\n\ncurrent_palette = sns.color_palette(\"colorblind\")\n\nfig = plt.figure()\nplt.semilogx(\n    p_alphas, objs, color=current_palette[0], linewidth=7.0)\nplt.semilogx(\n    p_alphas, objs, 'bo', label='0-order method (grid-search)',\n    color=current_palette[1], markersize=15)\nplt.semilogx(\n    p_alphas_grad, objs_grad, 'bX', label='1-st order method',\n    color=current_palette[2], markersize=25)\nplt.xlabel(r\"$\\lambda / \\lambda_{\\max}$\", fontsize=28)\nplt.ylabel(\n    r\"$\\|y^{\\rm{val}} - X^{\\rm{val}} \\hat \\beta^{(\\lambda)} \\|^2$\",\n    fontsize=28)\nplt.tick_params(width=5)\nplt.legend(fontsize=14, loc=1)\nplt.tight_layout()\nplt.show(block=False)"
      ]
    }
  ],
  "metadata": {
    "kernelspec": {
      "display_name": "Python 3",
      "language": "python",
      "name": "python3"
    },
    "language_info": {
      "codemirror_mode": {
        "name": "ipython",
        "version": 3
      },
      "file_extension": ".py",
      "mimetype": "text/x-python",
      "name": "python",
      "nbconvert_exporter": "python",
      "pygments_lexer": "ipython3",
      "version": "3.7.6"
    }
  },
  "nbformat": 4,
  "nbformat_minor": 0
}