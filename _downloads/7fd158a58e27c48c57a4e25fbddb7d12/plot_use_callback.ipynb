{
  "cells": [
    {
      "cell_type": "code",
      "execution_count": null,
      "metadata": {
        "collapsed": false
      },
      "outputs": [],
      "source": [
        "%matplotlib inline"
      ]
    },
    {
      "cell_type": "markdown",
      "metadata": {},
      "source": [
        "\n# How to use custom metrics?\n\nThis example shows how to compute customize metrics using a callback function\nas in scipy.\n"
      ]
    },
    {
      "cell_type": "code",
      "execution_count": null,
      "metadata": {
        "collapsed": false
      },
      "outputs": [],
      "source": [
        "# Authors: Quentin Bertrand <quentin.bertrand@inria.fr>\n#          Quentin Klopfenstein <quentin.klopfenstein@u-bourgogne.fr>\n#\n# License: BSD (3-clause)\n\nimport time\nimport numpy as np\nfrom numpy.linalg import norm\nimport matplotlib.pyplot as plt\nimport seaborn as sns\nfrom sklearn import linear_model\nfrom sklearn.model_selection import train_test_split\n\nfrom sparse_ho.models import Lasso\nfrom sparse_ho.criterion import HeldOutMSE\nfrom sparse_ho.forward import Forward\nfrom sparse_ho.implicit_forward import ImplicitForward\nfrom sparse_ho.utils import Monitor\nfrom sparse_ho.ho import grad_search\nfrom sparse_ho.grid_search import grid_search\nfrom sklearn.datasets import make_regression\n\nfrom libsvmdata.datasets import fetch_libsvm\n\n\nprint(__doc__)\n\n# dataset = 'rcv1'\ndataset = 'simu'\n\nif dataset == 'rcv1':\n    X, y = fetch_libsvm('rcv1_train')\nelse:\n    X, y = make_regression(\n        n_samples=1000, n_features=1000, noise=40, random_state=0)\n\n# The dataset is split in 2: the data for training and validation: X\n# Useen data X_test, asserting the quality of the model\nX, X_test, y, y_test = train_test_split(X, y, test_size=0.333)\n\nn_samples = X.shape[0]\nidx_train = np.arange(0, n_samples // 2)\nidx_val = np.arange(n_samples // 2, n_samples)\n\nprint(\"Starting path computation...\")\nn_samples = len(y[idx_train])\nalpha_max = np.max(np.abs(X[idx_train, :].T.dot(y[idx_train]))) / len(idx_train)\nlog_alpha0 = np.log(alpha_max / 10)\n\ntol = 1e-7\nmax_iter = 1e5\n\n\nestimator = linear_model.Lasso(\n    fit_intercept=False, max_iter=1000, warm_start=True)"
      ]
    },
    {
      "cell_type": "markdown",
      "metadata": {},
      "source": [
        "Call back definition\n\n"
      ]
    },
    {
      "cell_type": "code",
      "execution_count": null,
      "metadata": {
        "collapsed": false
      },
      "outputs": [],
      "source": [
        "objs_test_grid = []\n\n\ndef callback_grid(val, grad, mask, dense, log_alpha):\n    beta = np.zeros(len(mask))\n    beta[mask] = dense\n    # The custom quantity is added at each outer iteration:\n    # here the loss on test data\n    objs_test_grid.append(\n        norm(X[np.ix_(idx_val, mask)] @ dense - y[idx_val]) ** 2 / len(idx_val))\n    return np.array(objs_test_grid)\n\n\nn_alphas = 10\np_alphas = np.geomspace(1, 0.0001, n_alphas)\nalphas = alpha_max * p_alphas\nlog_alphas = np.log(alphas)\n\ntol = 1e-7\nmax_iter = 1e5"
      ]
    },
    {
      "cell_type": "markdown",
      "metadata": {},
      "source": [
        "## Grid-search with scikit-learn\n\n"
      ]
    },
    {
      "cell_type": "code",
      "execution_count": null,
      "metadata": {
        "collapsed": false
      },
      "outputs": [],
      "source": [
        "estimator = linear_model.Lasso(\n    fit_intercept=False, max_iter=1000, warm_start=True)\n\nprint('scikit-learn started')\n\nt0 = time.time()\nmodel = Lasso(estimator=estimator)\ncriterion = HeldOutMSE(idx_train, idx_val)\nalgo = Forward()\nmonitor_grid_sk = Monitor(callback=callback_grid)\ngrid_search(\n    algo, criterion, model, X, y, None, None, monitor_grid_sk, log_alphas=log_alphas, tol=tol)\nobjs = np.array(monitor_grid_sk.objs)\nt_sk = time.time() - t0\n\nprint('scikit-learn finished')"
      ]
    },
    {
      "cell_type": "markdown",
      "metadata": {},
      "source": [
        "## Grad-search with sparse-ho and callback\n\n"
      ]
    },
    {
      "cell_type": "code",
      "execution_count": null,
      "metadata": {
        "collapsed": false
      },
      "outputs": [],
      "source": [
        "objs_test_grad = []\n\n\ndef callback_grad(val, grad, mask, dense, log_alpha):\n    beta = np.zeros(len(mask))\n    beta[mask] = dense\n    # The custom quantity is added at each outer iteration:\n    # here the loss on test data\n    objs_test_grad.append(\n        norm(X[np.ix_(idx_val, mask)] @ dense - y[idx_val]) ** 2 / len(idx_val))\n    return np.array(objs_test_grad)\n\n\nprint('sparse-ho started')\n\nt0 = time.time()\nmodel = Lasso(estimator=estimator)\ncriterion = HeldOutMSE(idx_train, idx_val)\nalgo = ImplicitForward(criterion)\n# use Monitor(callback)\nmonitor_grad = Monitor(callback=callback_grad)\n\ngrad_search(\n    algo, criterion, model, X, y, np.log(alpha_max / 10), monitor_grad,\n    n_outer=10, tol=tol)\n\nt_grad_search = time.time() - t0\n\nprint('sparse-ho finished')"
      ]
    },
    {
      "cell_type": "markdown",
      "metadata": {},
      "source": [
        "## Plot results\n\n"
      ]
    },
    {
      "cell_type": "code",
      "execution_count": null,
      "metadata": {
        "collapsed": false
      },
      "outputs": [],
      "source": [
        "p_alphas_grad = np.exp(np.array(monitor_grad.log_alphas)) / alpha_max\n\nobjs_grad = np.array(monitor_grad.objs)\n\n\ncurrent_palette = sns.color_palette(\"colorblind\")\n\nfig = plt.figure(figsize=(5, 3))\nplt.semilogx(\n    p_alphas, objs_test_grid, color=current_palette[0])\nplt.semilogx(\n    p_alphas, objs_test_grid, 'bo', label='0-order method (grid-search)',\n    color=current_palette[1])\nplt.semilogx(\n    p_alphas_grad, objs_test_grad, 'bX', label='1-st order method',\n    color=current_palette[2])\nplt.xlabel(r\"$\\lambda / \\lambda_{\\max}$\")\nplt.ylabel(\n    r\"$\\|y^{\\rm{test}} - X^{\\rm{test}} \\hat \\beta^{(\\lambda)} \\|^2$\")\nplt.tick_params(width=5)\nplt.legend()\nplt.tight_layout()\nplt.show(block=False)"
      ]
    }
  ],
  "metadata": {
    "kernelspec": {
      "display_name": "Python 3",
      "language": "python",
      "name": "python3"
    },
    "language_info": {
      "codemirror_mode": {
        "name": "ipython",
        "version": 3
      },
      "file_extension": ".py",
      "mimetype": "text/x-python",
      "name": "python",
      "nbconvert_exporter": "python",
      "pygments_lexer": "ipython3",
      "version": "3.8.1"
    }
  },
  "nbformat": 4,
  "nbformat_minor": 0
}