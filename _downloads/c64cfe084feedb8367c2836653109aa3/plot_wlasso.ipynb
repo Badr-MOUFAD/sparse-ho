{
  "cells": [
    {
      "cell_type": "code",
      "execution_count": null,
      "metadata": {
        "collapsed": false
      },
      "outputs": [],
      "source": [
        "%matplotlib inline"
      ]
    },
    {
      "cell_type": "markdown",
      "metadata": {},
      "source": [
        "\n# Weighted Lasso with held-out test set\n\nThis example shows how to perform hyperparameter optimization\nfor a weighted Lasso using a held-out validation set.\nIn particular we compare the weighted Lasso to LassoCV on a toy example\n"
      ]
    },
    {
      "cell_type": "code",
      "execution_count": null,
      "metadata": {
        "collapsed": false
      },
      "outputs": [],
      "source": [
        "# Authors: Quentin Bertrand <quentin.bertrand@inria.fr>\n#          Quentin Klopfenstein <quentin.klopfenstein@u-bourgogne.fr>\n#          Kenan Sehic\n# License: BSD (3-clause)\n\nimport numpy as np\nimport matplotlib.pyplot as plt\nimport pandas as pd\nfrom numpy.linalg import norm\nfrom scipy.linalg import toeplitz\n\nfrom sklearn.model_selection import train_test_split\nfrom sklearn.metrics import mean_squared_error\nfrom sklearn.utils import check_random_state\nfrom celer import Lasso, LassoCV\n\nfrom sparse_ho.models import WeightedLasso\nfrom sparse_ho.criterion import HeldOutMSE\nfrom sparse_ho import ImplicitForward\nfrom sparse_ho.utils import Monitor\nfrom sparse_ho.ho import grad_search"
      ]
    },
    {
      "cell_type": "markdown",
      "metadata": {},
      "source": [
        "Dataset creation\n\n"
      ]
    },
    {
      "cell_type": "code",
      "execution_count": null,
      "metadata": {
        "collapsed": false
      },
      "outputs": [],
      "source": [
        "n_samples = 900\nn_features = 600\nrng = check_random_state(0)\nX = rng.multivariate_normal(\n    size=n_samples, mean=np.zeros(n_features),\n    cov=toeplitz(0.5 ** np.arange(n_features)))\n\n\n# Create true regression coefficients of 5 non-zero values\nw_true = np.zeros(n_features)\nsize_supp = 5\nidx = rng.choice(X.shape[1], size_supp, replace=False)\nw_true[idx] = (-1) ** np.arange(size_supp)\nnoise = rng.randn(n_samples)\ny = X @ w_true\ny += noise / norm(noise) * 0.5 * norm(y)"
      ]
    },
    {
      "cell_type": "code",
      "execution_count": null,
      "metadata": {
        "collapsed": false
      },
      "outputs": [],
      "source": [
        "X, X_test, y, y_test = train_test_split(X, y, test_size=0.333)\n\nn_samples = X.shape[0]\nidx_train = np.arange(0, n_samples // 2)\nidx_val = np.arange(n_samples // 2, n_samples)"
      ]
    },
    {
      "cell_type": "markdown",
      "metadata": {},
      "source": [
        "Max penalty value\n\n"
      ]
    },
    {
      "cell_type": "code",
      "execution_count": null,
      "metadata": {
        "collapsed": false
      },
      "outputs": [],
      "source": [
        "alpha_max = np.max(np.abs(X[idx_train, :].T.dot(y[idx_train]))) / len(idx_train)\nn_alphas = 30\nalphas = alpha_max * np.geomspace(1, 0.001, n_alphas)"
      ]
    },
    {
      "cell_type": "markdown",
      "metadata": {},
      "source": [
        "Vanilla LassoCV\n\n"
      ]
    },
    {
      "cell_type": "code",
      "execution_count": null,
      "metadata": {
        "collapsed": false
      },
      "outputs": [],
      "source": [
        "print(\"========== Celer's LassoCV started ===============\")\nmodel_cv = LassoCV(\n    verbose=False, fit_intercept=False, alphas=alphas, tol=1e-7, max_iter=100,\n    cv=2, n_jobs=2).fit(X, y)\n\n# Measure mse on test\nmse_cv = mean_squared_error(y_test, model_cv.predict(X_test))\nprint(\"Vanilla LassoCV: Mean-squared error on test data %f\" % mse_cv)"
      ]
    },
    {
      "cell_type": "markdown",
      "metadata": {},
      "source": [
        "Weighted Lasso with sparse-ho.\nWe use the vanilla lassoCV coefficients as a starting point\n\n"
      ]
    },
    {
      "cell_type": "code",
      "execution_count": null,
      "metadata": {
        "collapsed": false
      },
      "outputs": [],
      "source": [
        "log_alpha0 = np.log(model_cv.alpha_) * np.ones(n_features)\n# Weighted Lasso: Sparse-ho: 1 param per feature\nestimator = Lasso(fit_intercept=False, max_iter=10, warm_start=True)\nmodel = WeightedLasso(estimator=estimator)\ncriterion = HeldOutMSE(idx_train, idx_val)\nalgo = ImplicitForward()\nmonitor = Monitor()\ngrad_search(\n    algo, criterion, model, X, y, log_alpha0, monitor, n_outer=20, tol=1e-6)"
      ]
    },
    {
      "cell_type": "markdown",
      "metadata": {},
      "source": [
        "MSE on validation set\n\n"
      ]
    },
    {
      "cell_type": "code",
      "execution_count": null,
      "metadata": {
        "collapsed": false
      },
      "outputs": [],
      "source": [
        "mse_sho_val = mean_squared_error(y[idx_val], estimator.predict(X[idx_val, :]))\n\n# MSE on test set, ie unseen data\nmse_sho_test = mean_squared_error(y_test, estimator.predict(X_test))\n\n\nprint(\"Sparse-ho: Mean-squared error on validation data %f\" % mse_sho_val)\nprint(\"Sparse-ho: Mean-squared error on test (unseen) data %f\" % mse_sho_test)\n\n\nlabels = ['WeightedLasso val', 'WeightedLasso test', 'Lasso CV']\n\ndf = pd.DataFrame(\n    np.array([mse_sho_val, mse_sho_test, mse_cv]).reshape((1, -1)),\n    columns=labels)\ndf.plot.bar(rot=0)\nplt.xlabel(\"Estimator\")\nplt.ylabel(\"Mean square error\")\nplt.tight_layout()\nplt.show()"
      ]
    }
  ],
  "metadata": {
    "kernelspec": {
      "display_name": "Python 3",
      "language": "python",
      "name": "python3"
    },
    "language_info": {
      "codemirror_mode": {
        "name": "ipython",
        "version": 3
      },
      "file_extension": ".py",
      "mimetype": "text/x-python",
      "name": "python",
      "nbconvert_exporter": "python",
      "pygments_lexer": "ipython3",
      "version": "3.8.1"
    }
  },
  "nbformat": 4,
  "nbformat_minor": 0
}